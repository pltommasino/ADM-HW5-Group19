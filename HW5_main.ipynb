{
 "cells": [
  {
   "cell_type": "markdown",
   "id": "fb6cf567",
   "metadata": {},
   "source": [
    "# Homework 5 - The eternal significance of publications and citations!"
   ]
  },
  {
   "cell_type": "markdown",
   "id": "45fcc293",
   "metadata": {},
   "source": [
    "This project was carried out by Group 19 of Algorithmic Methods for Data Mining, consisting of:\n",
    "\n",
    "| NAME and SURNAME | EMAIL |\n",
    "| --- | --- |\n",
    "| Pasquale Luca Tommasino | pl.tommasino@gmail.com | \n",
    "| | |\n",
    "| | |\n",
    "| | |"
   ]
  },
  {
   "cell_type": "markdown",
   "id": "1bd6c038",
   "metadata": {},
   "source": [
    "## 1. Data\n"
   ]
  },
  {
   "cell_type": "code",
   "execution_count": 1,
   "id": "611fcb89",
   "metadata": {},
   "outputs": [],
   "source": [
    "import networkx as nx\n",
    "import matplotlib.pyplot as plt\n",
    "import ijson\n",
    "import pandas as pd\n",
    "from tqdm import tqdm\n",
    "from collections import Counter"
   ]
  },
  {
   "cell_type": "markdown",
   "id": "cddd8d36",
   "metadata": {},
   "source": [
    "At the first, let's see how the file is structured, let's take the first row of the dataset and see what the columns and the first row of the dataset are:"
   ]
  },
  {
   "cell_type": "code",
   "execution_count": 2,
   "id": "14daa051",
   "metadata": {},
   "outputs": [],
   "source": [
    "with open('dblp.v12.json', 'r') as file:\n",
    "    # Parse the JSON array items one by one\n",
    "    array_items = ijson.items(file, 'item')\n",
    "    # Iterate over the JSON array items\n",
    "    for item in array_items:\n",
    "        dict1 = item\n",
    "        break"
   ]
  },
  {
   "cell_type": "code",
   "execution_count": 3,
   "id": "559c93a5",
   "metadata": {},
   "outputs": [
    {
     "name": "stdout",
     "output_type": "stream",
     "text": [
      "['id', 'authors', 'title', 'year', 'n_citation', 'page_start', 'page_end', 'doc_type', 'publisher', 'volume', 'issue', 'doi', 'references', 'indexed_abstract', 'fos', 'venue']\n"
     ]
    }
   ],
   "source": [
    "#List the column of the json file\n",
    "chiave = list(dict1.keys())\n",
    "print(chiave)"
   ]
  },
  {
   "cell_type": "code",
   "execution_count": 4,
   "id": "ec97c927",
   "metadata": {},
   "outputs": [
    {
     "name": "stdout",
     "output_type": "stream",
     "text": [
      "[1091, [{'name': 'Makoto Satoh', 'org': 'Shinshu University', 'id': 2312688602}, {'name': 'Ryo Muramatsu', 'org': 'Shinshu University', 'id': 2482909946}, {'name': 'Mizue Kayama', 'org': 'Shinshu University', 'id': 2128134587}, {'name': 'Kazunori Itoh', 'org': 'Shinshu University', 'id': 2101782692}, {'name': 'Masami Hashimoto', 'org': 'Shinshu University', 'id': 2114054191}, {'name': 'Makoto Otani', 'org': 'Shinshu University', 'id': 1989208940}, {'name': 'Michio Shimizu', 'org': 'Nagano Prefectural College', 'id': 2134989941}, {'name': 'Masahiko Sugimoto', 'org': 'Takushoku University, Hokkaido Junior College', 'id': 2307479915}], 'Preliminary Design of a Network Protocol Learning Tool Based on the Comprehension of High School Students: Design by an Empirical Study Using a Simple Mind Map', 2013, 1, '89', '93', 'Conference', 'Springer, Berlin, Heidelberg', '', '', '10.1007/978-3-642-39476-8_19', [2005687710, 2018037215], {'IndexLength': 58, 'InvertedIndex': {'tool.': [42], 'study': [4], 'aim': [37], 'purpose': [1], 'scientific': [17], 'for': [11], 'aspects': [18], 'students': [14, 46], 'focus': [27], 'hands-on': [47], 'learning': [9, 41], 'experience': [48], 'our': [40], 'we': [26], 'network': [33, 56], 'The': [0], 'More': [24], 'high': [12], 'protocols.': [57], 'school': [13], 'and': [21], 'of': [2, 19, 32, 55], 'communication': [22], 'protocols': [34], 'gives': [45], 'on': [28], 'a': [8], 'studying': [15], 'specifically,': [25], 'this': [3], 'understand': [51], 'is': [5], 'develop': [7, 39], 'Our': [43], 'tool': [10, 44], 'the': [16, 29, 36, 52], 'help': [50], 'as': [35], 'principles': [31, 54], 'information': [20], 'networks.': [23], 'to': [6, 38, 49], 'basic': [30, 53]}}, [{'name': 'Telecommunications network', 'w': Decimal('0.45139')}, {'name': 'Computer science', 'w': Decimal('0.45245')}, {'name': 'Mind map', 'w': Decimal('0.5347')}, {'name': 'Human–computer interaction', 'w': Decimal('0.47011')}, {'name': 'Multimedia', 'w': Decimal('0.46629')}, {'name': 'Empirical research', 'w': Decimal('0.49737')}, {'name': 'Comprehension', 'w': Decimal('0.47042')}, {'name': 'Communications protocol', 'w': Decimal('0.51907')}], {'raw': 'International Conference on Human-Computer Interaction', 'id': 1127419992, 'type': 'C'}]\n"
     ]
    }
   ],
   "source": [
    "#List of values of first row of the json file\n",
    "valori = list(dict1.values())\n",
    "print(valori)"
   ]
  },
  {
   "cell_type": "markdown",
   "id": "a20b7f72",
   "metadata": {},
   "source": [
    "### Data pre-processing"
   ]
  },
  {
   "cell_type": "markdown",
   "id": "5e1ae8a3",
   "metadata": {},
   "source": [
    "We now transform the entire *.json file* into a dictionary with selected columns (*id, authors, title, year, n_citation, doc_type, publisher* and *references*)"
   ]
  },
  {
   "cell_type": "code",
   "execution_count": 5,
   "id": "323011fd",
   "metadata": {},
   "outputs": [],
   "source": [
    "#Create a dict for Collaboration Graph\n",
    "dict_entire = {\n",
    "    'id' : [], \n",
    "    'authors' : [], \n",
    "    'title' : [], \n",
    "    'year' : [], \n",
    "    'n_citation' : [], \n",
    "    'doc_type' : [], \n",
    "    'publisher' : [],\n",
    "    'references' : []\n",
    "}"
   ]
  },
  {
   "cell_type": "markdown",
   "id": "fc0be070",
   "metadata": {},
   "source": [
    "We create functions for processing the *.json file* (they are in **function.py**)."
   ]
  },
  {
   "cell_type": "code",
   "execution_count": 6,
   "id": "b62e02db",
   "metadata": {},
   "outputs": [
    {
     "name": "stderr",
     "output_type": "stream",
     "text": [
      "0it [00:00, ?it/s]"
     ]
    },
    {
     "name": "stderr",
     "output_type": "stream",
     "text": [
      "4894081it [05:56, 13740.24it/s]\n"
     ]
    }
   ],
   "source": [
    "from function import *\n",
    "\n",
    "with open('dblp.v12.json', 'r') as file:\n",
    "    # Parse the JSON array items one by one\n",
    "    array_items = ijson.items(file, 'item')\n",
    "    # Iterate over the JSON array items\n",
    "    for item in tqdm(array_items):\n",
    "        # Process each JSON array item as needed\n",
    "        dict_id(dict_entire, item)\n",
    "        dict_authors(dict_entire, item)\n",
    "        dict_title(dict_entire, item)\n",
    "        dict_year(dict_entire, item)\n",
    "        dict_n_citation(dict_entire, item)\n",
    "        dict_doc_type(dict_entire, item)\n",
    "        dict_publisher(dict_entire, item)\n",
    "        dict_references(dict_entire, item)"
   ]
  },
  {
   "cell_type": "markdown",
   "id": "f639ec06",
   "metadata": {},
   "source": [
    "Transform dictionary in Pandas Dataframe:"
   ]
  },
  {
   "cell_type": "code",
   "execution_count": 7,
   "id": "0bb0d247",
   "metadata": {},
   "outputs": [
    {
     "data": {
      "text/html": [
       "<div>\n",
       "<style scoped>\n",
       "    .dataframe tbody tr th:only-of-type {\n",
       "        vertical-align: middle;\n",
       "    }\n",
       "\n",
       "    .dataframe tbody tr th {\n",
       "        vertical-align: top;\n",
       "    }\n",
       "\n",
       "    .dataframe thead th {\n",
       "        text-align: right;\n",
       "    }\n",
       "</style>\n",
       "<table border=\"1\" class=\"dataframe\">\n",
       "  <thead>\n",
       "    <tr style=\"text-align: right;\">\n",
       "      <th></th>\n",
       "      <th>id</th>\n",
       "      <th>authors</th>\n",
       "      <th>title</th>\n",
       "      <th>year</th>\n",
       "      <th>n_citation</th>\n",
       "      <th>doc_type</th>\n",
       "      <th>publisher</th>\n",
       "      <th>references</th>\n",
       "    </tr>\n",
       "  </thead>\n",
       "  <tbody>\n",
       "    <tr>\n",
       "      <th>0</th>\n",
       "      <td>1091</td>\n",
       "      <td>[Makoto Satoh, Ryo Muramatsu, Mizue Kayama, Ka...</td>\n",
       "      <td>Preliminary Design of a Network Protocol Learn...</td>\n",
       "      <td>2013</td>\n",
       "      <td>1</td>\n",
       "      <td>Conference</td>\n",
       "      <td>Springer, Berlin, Heidelberg</td>\n",
       "      <td>[2005687710, 2018037215]</td>\n",
       "    </tr>\n",
       "    <tr>\n",
       "      <th>1</th>\n",
       "      <td>1388</td>\n",
       "      <td>[Pranava K. Jha]</td>\n",
       "      <td>Further Results on Independence in Direct-Prod...</td>\n",
       "      <td>2000</td>\n",
       "      <td>1</td>\n",
       "      <td>Journal</td>\n",
       "      <td>None</td>\n",
       "      <td>None</td>\n",
       "    </tr>\n",
       "    <tr>\n",
       "      <th>2</th>\n",
       "      <td>1674</td>\n",
       "      <td>[G. Beale, G. Earl]</td>\n",
       "      <td>A methodology for the physically accurate visu...</td>\n",
       "      <td>2011</td>\n",
       "      <td>1</td>\n",
       "      <td>Conference</td>\n",
       "      <td>Eurographics Association</td>\n",
       "      <td>[1535888970, 1992876689, 1993710814, 203565334...</td>\n",
       "    </tr>\n",
       "    <tr>\n",
       "      <th>3</th>\n",
       "      <td>1688</td>\n",
       "      <td>[Altaf Hossain, Faisal Zaman, M. Nasser, M. Mu...</td>\n",
       "      <td>Comparison of GARCH, Neural Network and Suppor...</td>\n",
       "      <td>2009</td>\n",
       "      <td>6</td>\n",
       "      <td>Conference</td>\n",
       "      <td>Springer, Berlin, Heidelberg</td>\n",
       "      <td>[1560724230, 1986968751, 2156909104]</td>\n",
       "    </tr>\n",
       "    <tr>\n",
       "      <th>4</th>\n",
       "      <td>5411</td>\n",
       "      <td>[Rafael Álvarez, Leandro Tortosa, José-Francis...</td>\n",
       "      <td>COMPARING GNG3D AND QUADRIC ERROR METRICS METH...</td>\n",
       "      <td>2009</td>\n",
       "      <td>0</td>\n",
       "      <td>Conference</td>\n",
       "      <td>None</td>\n",
       "      <td>None</td>\n",
       "    </tr>\n",
       "  </tbody>\n",
       "</table>\n",
       "</div>"
      ],
      "text/plain": [
       "     id                                            authors  \\\n",
       "0  1091  [Makoto Satoh, Ryo Muramatsu, Mizue Kayama, Ka...   \n",
       "1  1388                                   [Pranava K. Jha]   \n",
       "2  1674                                [G. Beale, G. Earl]   \n",
       "3  1688  [Altaf Hossain, Faisal Zaman, M. Nasser, M. Mu...   \n",
       "4  5411  [Rafael Álvarez, Leandro Tortosa, José-Francis...   \n",
       "\n",
       "                                               title  year  n_citation  \\\n",
       "0  Preliminary Design of a Network Protocol Learn...  2013           1   \n",
       "1  Further Results on Independence in Direct-Prod...  2000           1   \n",
       "2  A methodology for the physically accurate visu...  2011           1   \n",
       "3  Comparison of GARCH, Neural Network and Suppor...  2009           6   \n",
       "4  COMPARING GNG3D AND QUADRIC ERROR METRICS METH...  2009           0   \n",
       "\n",
       "     doc_type                     publisher  \\\n",
       "0  Conference  Springer, Berlin, Heidelberg   \n",
       "1     Journal                          None   \n",
       "2  Conference      Eurographics Association   \n",
       "3  Conference  Springer, Berlin, Heidelberg   \n",
       "4  Conference                          None   \n",
       "\n",
       "                                          references  \n",
       "0                           [2005687710, 2018037215]  \n",
       "1                                               None  \n",
       "2  [1535888970, 1992876689, 1993710814, 203565334...  \n",
       "3               [1560724230, 1986968751, 2156909104]  \n",
       "4                                               None  "
      ]
     },
     "execution_count": 7,
     "metadata": {},
     "output_type": "execute_result"
    }
   ],
   "source": [
    "#Transform dict in dataframe\n",
    "df_entire = pd.DataFrame(dict_entire)\n",
    "df_entire.head()"
   ]
  },
  {
   "cell_type": "code",
   "execution_count": 8,
   "id": "81fe7365",
   "metadata": {},
   "outputs": [
    {
     "data": {
      "text/html": [
       "<div>\n",
       "<style scoped>\n",
       "    .dataframe tbody tr th:only-of-type {\n",
       "        vertical-align: middle;\n",
       "    }\n",
       "\n",
       "    .dataframe tbody tr th {\n",
       "        vertical-align: top;\n",
       "    }\n",
       "\n",
       "    .dataframe thead th {\n",
       "        text-align: right;\n",
       "    }\n",
       "</style>\n",
       "<table border=\"1\" class=\"dataframe\">\n",
       "  <thead>\n",
       "    <tr style=\"text-align: right;\">\n",
       "      <th></th>\n",
       "      <th>id</th>\n",
       "      <th>authors</th>\n",
       "      <th>title</th>\n",
       "      <th>year</th>\n",
       "      <th>n_citation</th>\n",
       "      <th>doc_type</th>\n",
       "      <th>publisher</th>\n",
       "      <th>references</th>\n",
       "    </tr>\n",
       "  </thead>\n",
       "  <tbody>\n",
       "    <tr>\n",
       "      <th>0</th>\n",
       "      <td>1091</td>\n",
       "      <td>[Makoto Satoh, Ryo Muramatsu, Mizue Kayama, Ka...</td>\n",
       "      <td>Preliminary Design of a Network Protocol Learn...</td>\n",
       "      <td>2013</td>\n",
       "      <td>1</td>\n",
       "      <td>Conference</td>\n",
       "      <td>Springer, Berlin, Heidelberg</td>\n",
       "      <td>[2005687710, 2018037215]</td>\n",
       "    </tr>\n",
       "    <tr>\n",
       "      <th>1</th>\n",
       "      <td>1388</td>\n",
       "      <td>[Pranava K. Jha]</td>\n",
       "      <td>Further Results on Independence in Direct-Prod...</td>\n",
       "      <td>2000</td>\n",
       "      <td>1</td>\n",
       "      <td>Journal</td>\n",
       "      <td>None</td>\n",
       "      <td>None</td>\n",
       "    </tr>\n",
       "    <tr>\n",
       "      <th>2</th>\n",
       "      <td>1674</td>\n",
       "      <td>[G. Beale, G. Earl]</td>\n",
       "      <td>A methodology for the physically accurate visu...</td>\n",
       "      <td>2011</td>\n",
       "      <td>1</td>\n",
       "      <td>Conference</td>\n",
       "      <td>Eurographics Association</td>\n",
       "      <td>[1535888970, 1992876689, 1993710814, 203565334...</td>\n",
       "    </tr>\n",
       "    <tr>\n",
       "      <th>3</th>\n",
       "      <td>1688</td>\n",
       "      <td>[Altaf Hossain, Faisal Zaman, M. Nasser, M. Mu...</td>\n",
       "      <td>Comparison of GARCH, Neural Network and Suppor...</td>\n",
       "      <td>2009</td>\n",
       "      <td>6</td>\n",
       "      <td>Conference</td>\n",
       "      <td>Springer, Berlin, Heidelberg</td>\n",
       "      <td>[1560724230, 1986968751, 2156909104]</td>\n",
       "    </tr>\n",
       "    <tr>\n",
       "      <th>4</th>\n",
       "      <td>5411</td>\n",
       "      <td>[Rafael Álvarez, Leandro Tortosa, José-Francis...</td>\n",
       "      <td>COMPARING GNG3D AND QUADRIC ERROR METRICS METH...</td>\n",
       "      <td>2009</td>\n",
       "      <td>0</td>\n",
       "      <td>Conference</td>\n",
       "      <td>None</td>\n",
       "      <td>None</td>\n",
       "    </tr>\n",
       "  </tbody>\n",
       "</table>\n",
       "</div>"
      ],
      "text/plain": [
       "     id                                            authors  \\\n",
       "0  1091  [Makoto Satoh, Ryo Muramatsu, Mizue Kayama, Ka...   \n",
       "1  1388                                   [Pranava K. Jha]   \n",
       "2  1674                                [G. Beale, G. Earl]   \n",
       "3  1688  [Altaf Hossain, Faisal Zaman, M. Nasser, M. Mu...   \n",
       "4  5411  [Rafael Álvarez, Leandro Tortosa, José-Francis...   \n",
       "\n",
       "                                               title  year  n_citation  \\\n",
       "0  Preliminary Design of a Network Protocol Learn...  2013           1   \n",
       "1  Further Results on Independence in Direct-Prod...  2000           1   \n",
       "2  A methodology for the physically accurate visu...  2011           1   \n",
       "3  Comparison of GARCH, Neural Network and Suppor...  2009           6   \n",
       "4  COMPARING GNG3D AND QUADRIC ERROR METRICS METH...  2009           0   \n",
       "\n",
       "     doc_type                     publisher  \\\n",
       "0  Conference  Springer, Berlin, Heidelberg   \n",
       "1     Journal                          None   \n",
       "2  Conference      Eurographics Association   \n",
       "3  Conference  Springer, Berlin, Heidelberg   \n",
       "4  Conference                          None   \n",
       "\n",
       "                                          references  \n",
       "0                           [2005687710, 2018037215]  \n",
       "1                                               None  \n",
       "2  [1535888970, 1992876689, 1993710814, 203565334...  \n",
       "3               [1560724230, 1986968751, 2156909104]  \n",
       "4                                               None  "
      ]
     },
     "execution_count": 8,
     "metadata": {},
     "output_type": "execute_result"
    }
   ],
   "source": [
    "#Save df in csv file\n",
    "#df_entire.to_csv('df_entire.csv')\n",
    "#Read csv df file\n",
    "#df_entire = pd.read_csv('df_entire.csv', index_col=0, low_memory=False)\n",
    "\n",
    "#Drop NaN value in the column I\n",
    "#df_entire = df_entire.dropna(subset='id')\n",
    "\n",
    "#Transform columns from decimal to integer\n",
    "#df_entire['id'] = df_entire['id'].astype(int)\n",
    "#df_entire['n_citation'] = df_entire['n_citation'].astype(int)\n",
    "#Transform column from integer to datetime (year)\n",
    "#df_entire['year'] = df_entire['year'].astype('datetime64[Y]')\n",
    "\n",
    "#See the 'head' of dataset\n",
    "df_entire.head()\n"
   ]
  },
  {
   "cell_type": "markdown",
   "id": "f9bca0d8",
   "metadata": {},
   "source": [
    "#### 1. Identify the top 10,000 papers with the highest number of citations."
   ]
  },
  {
   "cell_type": "code",
   "execution_count": 9,
   "id": "0ae167f0",
   "metadata": {},
   "outputs": [
    {
     "data": {
      "text/html": [
       "<div>\n",
       "<style scoped>\n",
       "    .dataframe tbody tr th:only-of-type {\n",
       "        vertical-align: middle;\n",
       "    }\n",
       "\n",
       "    .dataframe tbody tr th {\n",
       "        vertical-align: top;\n",
       "    }\n",
       "\n",
       "    .dataframe thead th {\n",
       "        text-align: right;\n",
       "    }\n",
       "</style>\n",
       "<table border=\"1\" class=\"dataframe\">\n",
       "  <thead>\n",
       "    <tr style=\"text-align: right;\">\n",
       "      <th></th>\n",
       "      <th>id</th>\n",
       "      <th>authors</th>\n",
       "      <th>title</th>\n",
       "      <th>year</th>\n",
       "      <th>n_citation</th>\n",
       "      <th>doc_type</th>\n",
       "      <th>publisher</th>\n",
       "      <th>references</th>\n",
       "    </tr>\n",
       "  </thead>\n",
       "  <tbody>\n",
       "    <tr>\n",
       "      <th>4696136</th>\n",
       "      <td>2041404167</td>\n",
       "      <td>[C. E. Shannon]</td>\n",
       "      <td>The Mathematical Theory of Communication</td>\n",
       "      <td>1949</td>\n",
       "      <td>48327</td>\n",
       "      <td>Book</td>\n",
       "      <td>None</td>\n",
       "      <td>None</td>\n",
       "    </tr>\n",
       "    <tr>\n",
       "      <th>4630907</th>\n",
       "      <td>1639032689</td>\n",
       "      <td>[David E. Goldberg]</td>\n",
       "      <td>Genetic algorithms in search, optimization, an...</td>\n",
       "      <td>1989</td>\n",
       "      <td>44175</td>\n",
       "      <td>Book</td>\n",
       "      <td>None</td>\n",
       "      <td>None</td>\n",
       "    </tr>\n",
       "    <tr>\n",
       "      <th>4092588</th>\n",
       "      <td>2912565176</td>\n",
       "      <td>[Lotfi A. Zadeh]</td>\n",
       "      <td>Fuzzy sets</td>\n",
       "      <td>1996</td>\n",
       "      <td>42437</td>\n",
       "      <td>None</td>\n",
       "      <td>None</td>\n",
       "      <td>None</td>\n",
       "    </tr>\n",
       "    <tr>\n",
       "      <th>2937610</th>\n",
       "      <td>2151103935</td>\n",
       "      <td>[David G. Lowe]</td>\n",
       "      <td>Distinctive Image Features from Scale-Invarian...</td>\n",
       "      <td>2004</td>\n",
       "      <td>35541</td>\n",
       "      <td>Journal</td>\n",
       "      <td>Kluwer Academic Publishers</td>\n",
       "      <td>[19720318, 1541642243, 1560959218, 1676552347,...</td>\n",
       "    </tr>\n",
       "    <tr>\n",
       "      <th>4088311</th>\n",
       "      <td>2911964244</td>\n",
       "      <td>[Leo Breiman]</td>\n",
       "      <td>Random Forests</td>\n",
       "      <td>2001</td>\n",
       "      <td>34741</td>\n",
       "      <td>None</td>\n",
       "      <td>None</td>\n",
       "      <td>[1507255258, 1580948147, 1605688901, 197584664...</td>\n",
       "    </tr>\n",
       "  </tbody>\n",
       "</table>\n",
       "</div>"
      ],
      "text/plain": [
       "                 id              authors  \\\n",
       "4696136  2041404167      [C. E. Shannon]   \n",
       "4630907  1639032689  [David E. Goldberg]   \n",
       "4092588  2912565176     [Lotfi A. Zadeh]   \n",
       "2937610  2151103935      [David G. Lowe]   \n",
       "4088311  2911964244        [Leo Breiman]   \n",
       "\n",
       "                                                     title  year  n_citation  \\\n",
       "4696136           The Mathematical Theory of Communication  1949       48327   \n",
       "4630907  Genetic algorithms in search, optimization, an...  1989       44175   \n",
       "4092588                                         Fuzzy sets  1996       42437   \n",
       "2937610  Distinctive Image Features from Scale-Invarian...  2004       35541   \n",
       "4088311                                     Random Forests  2001       34741   \n",
       "\n",
       "        doc_type                   publisher  \\\n",
       "4696136     Book                        None   \n",
       "4630907     Book                        None   \n",
       "4092588     None                        None   \n",
       "2937610  Journal  Kluwer Academic Publishers   \n",
       "4088311     None                        None   \n",
       "\n",
       "                                                references  \n",
       "4696136                                               None  \n",
       "4630907                                               None  \n",
       "4092588                                               None  \n",
       "2937610  [19720318, 1541642243, 1560959218, 1676552347,...  \n",
       "4088311  [1507255258, 1580948147, 1605688901, 197584664...  "
      ]
     },
     "execution_count": 9,
     "metadata": {},
     "output_type": "execute_result"
    }
   ],
   "source": [
    "#Create the top 10000 papers with the highest number of citations\n",
    "df_10th_papers = df_entire.sort_values(by=['n_citation'], ascending=False)[:10000]\n",
    "\n",
    "#See the first five lines\n",
    "df_10th_papers.head()"
   ]
  },
  {
   "cell_type": "code",
   "execution_count": 10,
   "id": "a9db47c9",
   "metadata": {},
   "outputs": [],
   "source": [
    "#Save df in csv file\n",
    "#df_10th_papers.to_csv('df_10th_papers.csv')\n",
    "#Read csv df file\n",
    "#df_10th_papers = pd.read_csv('df_10th_papers.csv')\n",
    "\n",
    "#Transform columns from decimal to integer\n",
    "#df_10th_papers['id'] = df_10th_papers['id'].astype(int)\n",
    "#df_10th_papers['n_citation'] = df_10th_papers['n_citation'].astype(int)\n",
    "#Transform column from integer to datetime (year)\n",
    "#df_10th_papers['year'] = df_10th_papers['year'].astype('datetime64[Y]')"
   ]
  },
  {
   "cell_type": "markdown",
   "id": "4bf14f33",
   "metadata": {},
   "source": [
    "#### 2. Then the nodes of your graphs would be as follows:"
   ]
  },
  {
   "cell_type": "markdown",
   "id": "71a48f48",
   "metadata": {},
   "source": [
    "#### - **Citation graph**: you can consider each of the papers as your nodes"
   ]
  },
  {
   "cell_type": "code",
   "execution_count": 11,
   "id": "16733d7b",
   "metadata": {},
   "outputs": [
    {
     "data": {
      "text/plain": [
       "False"
      ]
     },
     "execution_count": 11,
     "metadata": {},
     "output_type": "execute_result"
    }
   ],
   "source": [
    "#Chech if in the column 'id' there are any NaN value in column\n",
    "isthere_nan = df_entire['id'].isna().any()\n",
    "isthere_nan"
   ]
  },
  {
   "cell_type": "code",
   "execution_count": 12,
   "id": "6150f2bf",
   "metadata": {},
   "outputs": [
    {
     "data": {
      "text/plain": [
       "[1091, 1388, 1674, 1688, 5411]"
      ]
     },
     "execution_count": 12,
     "metadata": {},
     "output_type": "execute_result"
    }
   ],
   "source": [
    "#Create nodes for Citation Graph\n",
    "citationG_nodes = dict_entire['id']\n",
    "citationG_nodes[:5]"
   ]
  },
  {
   "cell_type": "markdown",
   "id": "2483b51f",
   "metadata": {},
   "source": [
    "#### - **Collaboration graph**: the authors of these papers would be your nodes"
   ]
  },
  {
   "cell_type": "code",
   "execution_count": 13,
   "id": "277eac9d",
   "metadata": {},
   "outputs": [
    {
     "data": {
      "text/plain": [
       "True"
      ]
     },
     "execution_count": 13,
     "metadata": {},
     "output_type": "execute_result"
    }
   ],
   "source": [
    "#Chech if in the column 'authors' there are any NaN value in column\n",
    "isthere_nan = df_entire['authors'].isna().any()\n",
    "isthere_nan"
   ]
  },
  {
   "cell_type": "code",
   "execution_count": 14,
   "id": "8cb80421",
   "metadata": {},
   "outputs": [],
   "source": [
    "df_entire = df_entire.dropna(subset='authors')"
   ]
  },
  {
   "cell_type": "code",
   "execution_count": 15,
   "id": "e47bca44",
   "metadata": {},
   "outputs": [
    {
     "data": {
      "text/plain": [
       "['Makoto Satoh',\n",
       " 'Ryo Muramatsu',\n",
       " 'Mizue Kayama',\n",
       " 'Kazunori Itoh',\n",
       " 'Masami Hashimoto']"
      ]
     },
     "execution_count": 15,
     "metadata": {},
     "output_type": "execute_result"
    }
   ],
   "source": [
    "#Create nodes for Collaboration Graph\n",
    "collaborationG_nodes_2 = df_entire['authors']\n",
    "\n",
    "#Unzip the nested lists in one list of authors\n",
    "collaborationG_nodes = []\n",
    "\n",
    "for list in collaborationG_nodes_2:\n",
    "    for author in list:\n",
    "        collaborationG_nodes.append(author)\n",
    "\n",
    "collaborationG_nodes[:5]"
   ]
  },
  {
   "cell_type": "markdown",
   "id": "34f69c4f",
   "metadata": {},
   "source": [
    "#### 3. For the edges of the two graphs, you would have the following cases:"
   ]
  },
  {
   "cell_type": "markdown",
   "id": "fd6e7795",
   "metadata": {},
   "source": [
    "#### - **Citation graph**: only consider the citation relationship between these 10,000 papers and ignore the rest."
   ]
  },
  {
   "cell_type": "code",
   "execution_count": 16,
   "id": "7546adcc",
   "metadata": {},
   "outputs": [
    {
     "data": {
      "text/plain": [
       "[(2151103935, 19720318),\n",
       " (2151103935, 1541642243),\n",
       " (2151103935, 1560959218),\n",
       " (2151103935, 1676552347),\n",
       " (2151103935, 1681491849)]"
      ]
     },
     "execution_count": 16,
     "metadata": {},
     "output_type": "execute_result"
    }
   ],
   "source": [
    "#Take a subset of the 10,000 papers dataset, and transform it in a readable dataset...\n",
    "##... with only two column, within one value\n",
    "citationG_edges_df_2 = df_10th_papers.reset_index()[['id','references']]\n",
    "citationG_edges_df_2 = citationG_edges_df_2.explode('references')\n",
    "citationG_edges_df_2 = citationG_edges_df_2.dropna(subset=['references']).reset_index()[['id','references']]\n",
    "\n",
    "#Transform dataset in a list of tuple\n",
    "citationG_edges = [tuple(x) for x in citationG_edges_df_2.to_records(index=False)]\n",
    "citationG_edges[:5]"
   ]
  },
  {
   "cell_type": "markdown",
   "id": "c83969ee",
   "metadata": {},
   "source": [
    "#### - **Collaboration graph**: only consider the collaborations between the authors of these 10,000 papers and ignore the rest."
   ]
  },
  {
   "cell_type": "code",
   "execution_count": 17,
   "id": "1574a3f6",
   "metadata": {},
   "outputs": [],
   "source": [
    "collaboration_dict = {\n",
    "    'name1' : [],\n",
    "    'name2' : []\n",
    "}"
   ]
  },
  {
   "cell_type": "code",
   "execution_count": 18,
   "id": "9383d665",
   "metadata": {},
   "outputs": [
    {
     "data": {
      "text/plain": [
       "[('David W. Hosmer', 'Stanley Lemeshow'),\n",
       " ('Chih-Chung Chang', 'Chih-Jen Lin'),\n",
       " ('Corinna Cortes', 'Vladimir Vapnik'),\n",
       " ('Heng Li', 'Richard Durbin'),\n",
       " ('K. Deb', 'A. Pratap')]"
      ]
     },
     "execution_count": 18,
     "metadata": {},
     "output_type": "execute_result"
    }
   ],
   "source": [
    "#Take a subset of the 10,000 papers dataset, and transform it in a readable dataset...\n",
    "##... with only two column, within one value\n",
    "collaborationG_edges_df_2 = df_10th_papers.reset_index()[['authors']]\n",
    "nestedlist_auth_collaboration = collaborationG_edges_df_2['authors'].tolist()\n",
    "\n",
    "#Create all possible matches of collaboration for each book\n",
    "collaborationG_edges = []\n",
    "for authors_list in nestedlist_auth_collaboration:\n",
    "    for i in range(len(authors_list)):\n",
    "        for j in range(i + 1, len(authors_list)):\n",
    "            collaborationG_edges.append((authors_list[i], authors_list[j]))\n",
    "\n",
    "collaborationG_edges[:5]\n"
   ]
  },
  {
   "cell_type": "code",
   "execution_count": 19,
   "id": "a4eeca79",
   "metadata": {},
   "outputs": [],
   "source": [
    "#Create a counter for couple\n",
    "collaborationG_edges_counter = Counter(collaborationG_edges)\n",
    "\n",
    "#Create a dictionary for track couple weight\n",
    "collaborationG_edges_weights = {}\n",
    "\n",
    "#Iteract edges and count from dict\n",
    "for edge, count in collaborationG_edges_counter.items():\n",
    "    collaborationG_edges_weights[edge] = count\n",
    "\n",
    "    #Add weight also for inverted edge\n",
    "    inverted_edge = (edge[1], edge[0])\n",
    "    collaborationG_edges_weights[inverted_edge] = count"
   ]
  },
  {
   "cell_type": "markdown",
   "id": "f305de48",
   "metadata": {},
   "source": [
    "#### Now we calculate the graphs:"
   ]
  },
  {
   "cell_type": "markdown",
   "id": "e2dd61e7",
   "metadata": {},
   "source": [
    "#### - **Citation graph**:"
   ]
  },
  {
   "cell_type": "code",
   "execution_count": 20,
   "id": "17676411",
   "metadata": {},
   "outputs": [],
   "source": [
    "#Create a unweighted and directed graph\n",
    "citation_graph = nx.DiGraph()\n",
    "\n",
    "# Add nodes to the graph\n",
    "citation_graph.add_nodes_from(citationG_nodes)\n",
    "# Add edges to the graph\n",
    "citation_graph.add_edges_from(citationG_edges)"
   ]
  },
  {
   "cell_type": "markdown",
   "id": "2bd0764f",
   "metadata": {},
   "source": [
    "#### - **Collaboration graph**:"
   ]
  },
  {
   "cell_type": "code",
   "execution_count": 21,
   "id": "61fc7d97",
   "metadata": {},
   "outputs": [],
   "source": [
    "#Create a weighted and undirected graph\n",
    "collaboration_graph = nx.Graph()\n",
    "\n",
    "#Add nodes to the graph\n",
    "collaboration_graph.add_nodes_from(collaborationG_nodes)\n",
    "\n",
    "#Add edges to the graph\n",
    "for edge, weight in collaborationG_edges_weights.items():\n",
    "    collaboration_graph.add_edge(edge[0], edge[1], weight=weight)"
   ]
  },
  {
   "cell_type": "markdown",
   "id": "f99b8cd7",
   "metadata": {},
   "source": [
    "## 2. Controlling system\n"
   ]
  },
  {
   "cell_type": "markdown",
   "id": "fd925e2b",
   "metadata": {},
   "source": [
    "### 2.1 Backend Implementation\n"
   ]
  },
  {
   "cell_type": "code",
   "execution_count": 22,
   "id": "6c83db1b",
   "metadata": {},
   "outputs": [],
   "source": [
    "#For this section (2.1) we work with the subgraph (10,000) of the entire graph\n",
    "\n",
    "#Shortlist for Citation Subgraph\n",
    "books_red = df_10th_papers['id'].tolist()\n",
    "#Subgraph\n",
    "sub_citation_graph = citation_graph.subgraph(books_red)\n",
    "\n",
    "#Create the shortlist for Collaboration Subgraph\n",
    "auth_red = []\n",
    "for list in nestedlist_auth_collaboration:\n",
    "    for auth in list:\n",
    "        auth_red.append(auth)\n",
    "#Subgraph\n",
    "sub_collaboration_graph = collaboration_graph.subgraph(auth_red)"
   ]
  },
  {
   "cell_type": "markdown",
   "id": "4c5c63ca",
   "metadata": {},
   "source": [
    "#### Functionality 1 - Graph's features\n",
    "\n",
    "**Input**:\n",
    "- The graph\n",
    "- The name of the graph\n",
    "\n",
    "**Output**:\n",
    "- The number of the nodes in the graph\n",
    "- The number of the edges in the graph\n",
    "- The graph density\n",
    "- The graph degree distribution\n",
    "- The average degree of the graph\n",
    "- The graph hubs (hubs are nodes having degrees more extensive than the 95th percentile of the degree distribution)\n",
    "- Whether the graph is dense or sparse"
   ]
  },
  {
   "cell_type": "code",
   "execution_count": 23,
   "id": "a4a38c24",
   "metadata": {},
   "outputs": [
    {
     "name": "stdout",
     "output_type": "stream",
     "text": [
      "The name of graph selected is: Sub Citation Graph\n",
      "The number of the nodes in the graph: 10000\n",
      "The number of the edges in the graph: 52252\n",
      "The Graph Density is: 0.000522572\n"
     ]
    },
    {
     "data": {
      "image/png": "[encoded data removed]",
      "text/plain": [
       "<Figure size 640x480 with 1 Axes>"
      ]
     },
     "metadata": {},
     "output_type": "display_data"
    },
    {
     "name": "stdout",
     "output_type": "stream",
     "text": [
      "The Average Degree is: 10\n",
      "The Hubs are: [2155511848, 2124087378, 2130509920, 2145747124, 2107080958, 2121531691, 2167898414, 2119565742, 2118877769, 2158592639, 2057175746, 2123825896, 2161410889, 2122646361, 2126512988, 2110325612, 2033419168, 2099741732, 2111308925, 2057012437, 2166982098, 2154956324, 2011039300, 2128381560, 2427881153, 1975846642, 2611939200, 2162919312, 2094204865, 2146502635, 2140833774, 2030536784, 1880262756, 2106525823, 2161969291, 1988790447, 2129201358, 2137983211, 2004617458, 2110425399, 2031454541, 2142144955, 2022508996, 1971784203, 2011662871, 2152761983, 2121927366, 1996360405, 2097089247, 2118978333, 2148043549, 2019363670, 1595575146, 1660390307, 2911964244, 2135035173, 2170654002, 2076118331, 2147880316, 2119896671, 2100235918, 2611515161, 2124386111, 2085261163, 2124222502, 2121601095, 2093191240, 2161381512, 2119799051, 2121863487, 2031489346, 2147717514, 1995444699, 2294059674, 1501500081, 1995903777, 2032210760, 2099057525, 2069959554, 2166559705, 2177274842, 2145096794, 2033751220, 2148963518, 2116064496, 2156598602, 2141885858, 2127271355, 2158237121, 1948751323, 2119046642, 2296616510, 2913932916, 2012812921, 2149684865, 2168002178, 2168231600, 2117539524, 2158139315, 2044762091, 2054658115, 1506285740, 2135988418, 2147555557, 1632114991, 2949650786, 2173213060, 2153028052, 2098567664, 2075597533, 2124651399, 1584405424, 2618530766, 2103614420, 2150341604, 2110659753, 2088049833, 2098339052, 2598771954, 2052267638, 2037227137, 2104532741, 2054692642, 1861492603, 2132549513, 2914885528, 2752782242, 2121899951, 2194775991, 2132549764, 2140938420, 2109579504, 2148606196, 2017337590, 2128716185, 2099454382, 2106335692, 2100830825, 2165744313, 1997841190, 2170102584, 2152473410, 2155225996, 2412782625, 1506845741, 2023007396, 1995875735, 1662133657, 2118428193, 2132747867, 2118297240, 1665214252, 1639032689, 2108598243, 1966385142, 2045028348, 1976969221, 2161420356, 2164598857, 2149427297, 1676552347, 2136451344, 1984309565, 2137401668, 2163059190, 2158733823, 2950179405, 2072128103, 1986931325, 1989651117, 2624989916, 2165943096, 2110041134, 1660562555, 1481420047, 2158275940, 2005314985, 1499049447, 2127048411, 2109255472, 2110893883, 1502916507, 2115710963, 2157457404, 2159128662, 2130325614, 1686810756, 2125148312, 2331128040, 2158899491, 1971040550, 2238624099, 2161062388, 1976709621, 1673310716, 1670263352, 2100408980, 2124591829, 1977496278, 2155328222, 2129638195, 1515402129, 2155492251, 2624304035, 2144679084, 2159686933, 1606858007, 2102605133, 2106996050, 2104210894, 2953360861, 2110764733, 2112042732, 1578907434, 2183182206, 2119710605, 2912565176, 2163455955, 2148251644, 2076063813, 2150676586, 1964357740, 2108995755, 2753542457, 2110798204, 1966553486, 2122922389, 1578285471, 2151135734, 2158049821, 2119350939, 2153233077, 1487583988, 2135505702, 2615688110, 2049981393, 2118269922, 2149760002, 2294922303, 1956559956, 1849277567, 2112076978, 2042281163, 1973501242, 2118040894, 2151103935, 2916302273, 2277195237, 2151693816, 2071707134, 1589034595, 1677409904, 2100379340, 1983364832, 2160279333, 1987198869, 2133475491, 2113945798, 2097856935, 2108834246, 1480376833, 2132984323, 1999192586, 1965703925, 2165949425, 2140095548, 1993229407, 2067514565, 2134557905, 2042316011, 2125055259, 2121647436, 47957325, 2025768430, 2152121970, 2164278908, 2118436669, 2138621811, 2090518410, 1780467660, 1677182931, 2089961441, 2024228866, 2179352600, 2127480961, 2340735175, 2337098149, 2140785063, 2121255383, 2155268664, 2025605741, 2952186574, 2151795416, 2130660124, 2107034620, 2165558283, 2153663612, 2139212933, 2156186849, 2169458211, 1904365287, 2142785340, 2132103241, 1980911747, 2155106456, 2054279472, 2112737587, 2952122856, 2155893237, 1520914943, 2156909104, 2120340025, 2166706824, 2107396783, 2523714292, 2123977795, 1496929357, 2135053460, 1548408014, 1566135517, 2067191022, 2107790757, 2133218851, 2107561590, 2124404372, 2167396179, 1480415088, 2147800946, 2163922914, 2122111042, 2117130368, 2147768505, 2165037244, 2107726111, 2155174176, 2121947440, 2107890099, 2912934387, 2136922672, 2041404167, 2095897464, 2043403353, 2128272608, 2098257210, 2170510658, 2137775453, 1575476631, 2104974755, 1975442866, 2129812935, 2116148865, 2153635508, 2066636486, 2154422044, 2169528473, 2085937320, 1535271175, 2145607950, 2008441192, 2117362057, 1543266722, 2146591355, 2108777122, 1536680647, 2112447569, 2101699735, 2108646579, 2108384452, 2087347434, 1608836379, 2124211486, 2124637492, 2140235142, 2098947662, 2098685541, 2115167851, 2131846894, 2119362555, 2017814585, 1992419399, 1655990431, 2156194072, 2132339004, 1978394996, 2119821739, 2123033018, 1644620247, 2091936226, 2101963262, 2153343530, 2217896605, 2165828254, 2095705004, 2131717044, 2149706766, 1667165204, 1903029394, 1574235309, 2040884411, 2124344619, 2104978738, 2127949150, 2118020653, 2436001372, 2131095207, 2123820820, 2096525273, 2147152072, 2097607146, 2155541015, 2064675550, 2159080219, 2104095591, 1850405760, 2036265926, 2130801612, 2114122776, 2150134853, 1989702938, 1791587663, 2151413173, 2142827986, 2164192722, 2109863423, 2097018403, 2110158442, 2172188317, 2099574482, 2145023731, 2123921160, 2154952480, 2111993661, 2129131372, 2592929672, 2949117887, 2113271807, 2132932625, 2143516773, 2121955477, 2128017662, 2046589280, 2145417574, 2342091124, 2097117768, 1806891645, 2162915993, 2024668293, 2086042811, 2011430131, 2546302380, 2171960770, 2168356304, 1991605728, 2155904486, 2163605009, 2147253850, 2150825860, 2154332114]\n",
      "The Selected Graph is: Sparse\n"
     ]
    }
   ],
   "source": [
    "from backend import *\n",
    "\n",
    "name_graph = input(\"The Graph Name is: \")\n",
    "functionality_1(sub_citation_graph, name_graph)"
   ]
  },
  {
   "cell_type": "code",
   "execution_count": 24,
   "id": "1f9e29ce",
   "metadata": {},
   "outputs": [
    {
     "name": "stdout",
     "output_type": "stream",
     "text": [
      "The name of graph selected is: Sub Collaboration Graph\n",
      "The number of the nodes in the graph: 23163\n",
      "The number of the edges in the graph: 139157\n",
      "The Graph Density is: 0.000518757\n"
     ]
    },
    {
     "data": {
      "image/png": "[encoded data removed]",
      "text/plain": [
       "<Figure size 640x480 with 1 Axes>"
      ]
     },
     "metadata": {},
     "output_type": "display_data"
    },
    {
     "name": "stdout",
     "output_type": "stream",
     "text": [
      "The Average Degree is: 12\n",
      "The Hubs are: ['Q Lin', 'Christine L. Mummery', 'A. Maxwell Burroughs', 'Sebastien Jean', 'Shigehiro Yoshida', 'Frederic Bastien', 'CN Arighi', 'C Chen', 'Masayoshi Itoh', 'Thomas J. Ha', 'Jude Kendall', 'A Auchincloss', 'F Jungo', 'C Lachaize', 'Aron Marchler-Bauer', 'Bo Zhang', 'Donna Karolchik', 'Christian Sigrist', 'Simon Lefrancois', 'Kunal Talwar', 'Ross A. Overbeek', 'LG Castro', 'Diana Haddad', 'Silvia Zucchelli', 'Binsheng Zhao', 'Matthew D. Schultz', 'Kyle T. Siebenthall', 'Jordan A. Ramilowski', 'Michael C. Schatz', 'Mary C. Farach-Carson', 'L. Froidevaux', 'Alan Mackay-sim', 'Timothy R. Dreszer', 'L Yip', 'Carlos A. Silva', 'Berit Lilje', 'Matthew W. State', 'Chieko Kai', 'Alexander V. Favorov', 'Anjana R. Vatsan', 'Matthieu Devin', 'Shennan Lu', 'R.R. Lay', 'Michael Isard', 'Stefano Gustincich', 'J Zhang', 'Rolf Apweiler', 'M.C. Chavez', 'Michael F. Walker', 'W Liu', 'Emiliano Dalla', 'L Pureza', 'Brian Smith-White', 'Amaia Sangrador-Vegas', 'Alex Lamb', 'R Huntley', 'Pradipta Ray', 'Antony F. Quinn', 'Patricia C. Babbitt', 'Valentin Bisson', 'Naoko Takahashi Tagami', 'J Nchoutmboube', 'Alexander Kanapin', 'Ri Ichiroh Manabe', 'Martin C. Frith', 'S Patient', 'Noam Shoresh', 'Yiming Bao', 'Jeremie Tanguay', 'Peter G. Zhang', 'Vsevolod J. Makeev', 'Levon M. Khachigian', 'Joshua D. Smith', 'Rie Fujita', 'Alan J. Knox', 'Mutsumi Kanamori-Katayama', 'Shigeo Koyasu', 'S Ferro', 'Robert D. Finn', 'Christopher J. Mungall', 'Masanori Suzuki', 'M Tognolli', 'Hari Balakrishnan', 'Marco Punta', 'Igor Tolstoy', 'Adriana Maggiore', \"Brian J. O'Roak\", 'B Boeckmann', 'Paul Barham', 'Richard Moore', 'Jesse R. Dixon', 'Mizuho Sakai', 'E Dimmer', 'Darko Zikic', 'Benoit Marchand', 'Sarah Bates', 'Julian Gough', 'Hideya Kawaji', 'Nicholas Ayache', 'Nicole Porz', 'Rick Boyle', 'J Garavelli', 'L Ciapina', 'P van Rensburg', 'Naoto Kondo', 'Kelly J. Hitchens', 'Naigong Zhang', 'Yasushi Okazaki', 'Rajinder Kaul', 'Jeanselle Dea', 'Reto Guler', 'Alek Jaworski', 'Angie S. Hinrichs', 'N Petrova', 'Eneida Hatcher', 'Tara Vazir Ghaemmaghami', 'Lillian D. Riddick', 'Fumio Nakahara', 'John D. Jackson', 'Lauranne Duquenne', 'Tamara Goldfarb', 'Linda M. Van Den Berg', 'Mathew W. Wright', 'C Casal-Casas', 'Roberto Verardo', 'Vivek Kulkarni', 'WM Chan', 'M.J. Walch', 'Christine Orengo', 'Avi Kimchi', 'M-C Blatter', 'Efthymios Motakis', 'Vincent Michalski', 'Rahul Nagarajan', 'Amos Marc Bairoch', 'Catherine A. Sullivan', 'Koray Kavukcuoglu', 'Inessa Hakker', 'D Binns', 'Jamie Shotton', 'Niklas Krumm', 'Anita Schwegmann', 'Tim Cooijmans', 'Matt Graham', 'T Sawford', 'Peggy J. Farnham', 'Myriam Cote', 'Susan S. Storz', 'PD Roggli', 'Kelvin Xu', 'Yoshihide Hayashizaki', 'H Huang', 'Kazuhiro Kajiyama', 'BE Suzek', 'John Salvatier', 'Wenjun Li', 'Robert Passier', 'Anatoly Belikov', 'Steven J M Jones', 'Balazs Hidasi', 'Ginell Elliott', 'Doe Hyun Yoon', 'Silvio C.E. Tosatto', 'Alexander Meissner', 'Juha Kere', 'Yosuke Mizuno', 'Takeya Kasukawa', 'Liang Zhao', 'Sander Dieleman', 'Ray Ni', 'Manjulapramila Thimmajanarthanan', 'Olivier Mastropietro', 'Rodrigo Lopez', 'Noemi del-Toro', 'CR Vinayaka', 'Matthew Snelham', 'Gijs van Tulder', 'Anagha Joshi', 'Marco A. Marra', 'Ujjwal Das', 'Sanjay Ghemawat', 'D Legge', 'P-A Binz', 'Kim D. Pruitt', 'P.H. Siegel', 'Yuliya Burren', 'Zhifeng Chen', 'Niklas Mejhert', 'Ting Wang', 'Duygu Sarikaya', 'Michel Dojat', 'Silvano Piazza', 'Huaiyu Mi', 'Dachuan Zhang', 'Vijay Vasudevan', 'D Lieberherr', 'Masaaki Furuno', 'Carlo V. Cannistraci', 'Mark Diekhans', 'Misako Yoneda', 'Frank Brombacher', 'Daniel Goldowitz', 'E Boutet', 'Tadasuke Nozaki', 'Zhuyuan Liu', 'Roland Memisevic', 'DA Natale', 'Markus Roth', 'Daniel Killebrew', 'Akira Hasegawa', 'Al Borchers', 'Jaina Mistry', 'Akiko Saka', 'Siew Yit Yong', 'Soichi Kojima', 'Christine A. Wells', 'H McWilliam', 'David Patterson', 'Colin A. Semple', 'Galt P. Barber', 'Peter Andrews', 'G Keller', 'Robin Andersson', 'Rachel A. Harte', 'Alireza Heravi-Moussavi', 'Hisashi Shimoji', 'Andreas R. Pfenning', 'Saizheng Zhang', 'Pierre-Antoine Manzagol', 'Margherita Francescatto', 'R Britto', 'Jonathon Shlens', 'Etienne Simon', 'U Hinz', 'C Arighi', 'Lukasz Kaiser', 'Margaret Patrikakis', 'Taeko Dohi', 'Jun Kawai', 'Jennifer McDowall', 'N Hulo', 'Shoko Watanabe', 'Jun Ichi Furusawa', 'Davide Albanese', 'Igor Sinelnikov', 'Doina Precup', 'Shamil Sunyaev', 'Alexander Belopolsky', 'Fiona Broackes-Carter', 'Albert S B Edge', 'Arnaud Bergeron', 'Nicolas Ballas', 'Beatrice Bodega', 'Anthony Mathelier', 'Gozde Unal', 'Nicolas Bouchard', 'Pouya Kheradpour', 'Zuotian Tatum', 'Alexander D. Diehl', 'Shane J. Neph', 'Cagatay Demiralp', 'Bjoern H. Menze', 'G.K. Lau', 'Flor Vasseur', 'Hui Jia', 'Morten B. Rye', 'Xin Zhou', 'E Hatton-Ellis', 'Soheil Feizi', 'I Pedruzzi', 'Stephan J. Sanders', 'Daniel H. Haft', 'Vanja Haberle', 'Marco Chierici', 'Thea D. Tlsty', 'Hiroshi Ohno', 'Seungtai Yoon', 'T Neto', 'W. Van Snyder', 'A Fedotov', 'E de Castro', 'Yi Chieh Wu', 'Robert A. Waterland', 'Cristian Coarfa', 'Alan Lundin', 'Amos Bairoch', 'Finn Drabløs', 'Bruno Aranda', 'Masahide Hamaguchi', 'Anthony G. Beckhouse', 'Matt Ross', 'P Mutowo', 'Alistair R R Forest', 'Jonathan Ross', 'R.C. LaBelle', 'Senan Doyle', 'R.S. Harwood', 'N.J. Livesey', 'John A. Stamatoyannopoulos', 'Chris Clark', 'Mukul S. Bansal', 'Angela Yen', 'Patricia Buendia', 'Caglar Gulcehre', 'Xiaobei Zhao', 'A Gos', 'Antti Sajantila', 'Andrei Shkeda', 'Yoon Ha Lee', 'C Rivoire', 'Hanzhen Sun', 'David Culler', 'John A C Archer', 'Sarah Krampitz', 'M.S. Loo', 'Mathieu Germain', 'Hans J. Vogel', 'Jyoti Khadake', 'Andrew Y. Ng', 'Sarah Hunter', 'Li Huei Tsai', 'Arthur E. Beaudet', 'L Bougueleret', 'R. David Hawkins', 'L Breuza', 'Quoc V. Le', 'Joseph Turian', 'C Sigrist', 'Khan M. Iftekharuddin', 'Raja Mazumder', 'N Gruaz-Gumowski', 'Prudence Mutowo-Muellenet', 'L Lane-Guermonprez', 'Erik A. Schultes', 'Michael Detmar', 'J James', 'Andrea Califano', 'Michela Fagiolini', 'Anthony Leotta', 'Gerritsen', 'James G D Prendergast', 'D.M. Scaff', 'Wei Xie', 'Aleksandar Milosavljevic', 'Chunlei Liu', 'Ewan Birney', 'Stephen H. Bryant', 'Margaret Biswas', 'Iban Harlouchet', 'P Browne', 'D. Louis Collins', 'Wei Li', 'Andrew T. Kwon', 'D Barrell', 'Alex L. Mitchell', 'Hiram Clawson', 'Raj Jena', 'Marina Lizio', 'Peter J. Sabo', 'Richard Walter', 'Catherine Rivoire', 'Kenny Ye', 'A-L Veuthey', 'Boris Yamrom', 'Steven Marks', 'Takaaki Sugiyama', 'Lara', 'R Antunes', 'H.M. Pickett', 'Gundula G. Schulze-Tanzil', 'P Masson', 'M Donnelly', 'Horia Toma', 'Alberto Orlandi', 'John G. Tate', 'Guojun Sheng', 'C Wu', 'Raminder Bajwa', 'Catherine M. Farrell', 'Ernst Wolvetang', 'Hai Fang', 'Zsuzsanna Dosztanyi', 'Mike Schuster', 'Yangqing Jia', 'Julie Rosenbaum', 'Li Yao', 'A. Jeremy Willsey', 'Justin Kirby', 'Ville Silventoinen', 'Gabor Szekely', 'Sebastian Thrun', 'Haruhiko Koseki', 'Marc Van De Wetering', 'Roman Eisner', 'Pierre-Luc Carrier', 'Hiroo Toyoda', 'Stefan Bauer', 'Rupasri Mandal', 'R.F. Jarnot', 'A Bridge', 'Adriana Romero', 'Souhaila Bouatra', 'Judith S. Kempfle', 'J Luo', 'Leonard Lipovich', 'Sean Lee', 'Dan Levy', 'A Estreicher', 'David Haussler', 'Daofeng Li', 'Laurie A. Boyer', 'Tripti Gupta', 'S Rosanoff', 'Conor McMenamin', 'Dan Tzur', 'E Alpi', 'Laura Vives', 'Nicholas Leonard', 'Mikhail Korobov', 'Rami Al-Rfou', 'Shannan J Ho Sui', 'Tom C. Freeman', 'L Bollondi', 'Hiroshi Kawamoto', 'Chibo Hong', 'Vyacheslav Chetvernin', 'Orhan Firat', 'Daniel Rausch', 'Michael Wigler', 'Ivica Letunic', 'Danny Leung', 'Meenhard Herlyn', 'Jennifer Troge', 'Kyunghyun Cho', 'Martín Abadi', 'Hideki Enomoto', 'Wei Wang', 'P Lemercier', 'Matthew Willson', 'Bryan Paeper', 'Viren Amin', 'Christophe Simon', 'Vincent Vanhoucke', 'Alessandro Bonetti', 'Savita Shrivastava', 'Eric Chuah', 'J Arganiska', 'Cory Lorenz', 'S Gehant', 'Anshul Kundaje', 'Christian J A Sigrist', 'Josh Bleecher Snyder', 'Matthew Corbett', 'Soichi Ogishima', 'L Zuletta', 'R Leinonen', 'I Cusin', 'K.M. Chandra', 'Chin H. Li', 'Xavier Bouthillier', 'Michael J. Ziller', 'Nagesh K. Subbanna', 'T Kappler', 'Alka Saxena', 'Carrie A. Davis', 'Keyvan Farahani', 'Ann S. Zweig', 'Weonju Lee', 'S Pilbout', 'Ben Glocker', 'L Verbregue', 'M Moinat', 'Kazuyo Moro', 'X Watkins', 'Sven Guhl', 'James Briggs', 'Cesar Laurent', 'Vyacheslav Brover', 'S Jimenez', 'Jakub Sygnowski', 'I. Vastrik', 'E De Castro', 'M Pozzato', 'Nicolas Cordier', 'Wratko Hlavina', 'Liping Wei', 'Francois Savard', 'Robert Vaughan', 'Hiromi Nishiyori', 'Rolf K. Swoboda', 'Ben Gelb', 'Jeremy D. Selengut', 'Michihira Tagami', 'Dzmitry Bahdanau', 'L Bower', 'Carol Chen', 'Cynthia A. Liebert', 'L Famiglietti', 'Gianni Cesareni', 'Bogumil Kaczkowski', 'Michael R. Murphy', 'Christian J. A. Sigrist', 'Olivier Delalleau', 'Oliver M. Hofmann', 'Alexander Astashyn', 'S Altairac', 'Clifford Chao', 'M Feuermann', 'Nicholas A. Sinnott-Armstrong', 'Kim M. Summers', 'Owen J L Rackham', 'Conrad L. Schoch', 'Y Wang', 'P Gane', 'M Schneider', 'Misha Bilenky', 'Jose Antonio Mariz', 'Robert Hundt', 'W Barker', 'D Baratin', 'Charles B. Epstein', 'Michael Ryan', 'Barbara Robbertse', 'Joana Festa', 'Maxim Scheremetjew', 'Elizabeth Kelly', 'An Chi Guo', 'Kai How Farh', 'Holly A. Stessman', 'R. Scott Hansen', 'Shan Dong', 'Kathy Nix', 'Andrew P. Gibson', 'P Bansal', 'Ulf Schaefer', 'Martin Hirst', 'Pillet', 'Jayashree Kalpathy-Cramer', 'A Bateman', 'Penny Coggill', 'D Coral', 'Manolis Kellis', 'Laurent Dinh', 'Gabriele H. Marchler', 'Samira Ebrahimi Kahou', 'Wendy Wu', 'R.E. Cofield', 'Ruth Y. Eberhardt', 'Xiaotao Guo', 'David D. Hau', 'Matthias Harbers', 'Steve Lacy', 'Oriol Vinyals', 'Tammy Riklin Raviv', 'Gun-Shing Chen', 'Susan E. Zabierowski', 'M.L. Santee', 'C Hulo', 'Nicole Redaschi', 'W Li', 'Hiroki Sato', 'Eric Cox', 'Kelly M. McGarvey', 'R.A. Fuller', 'Rosa Karlic', 'Emily J. Wood', 'Naveen Kumar', 'Shohei Noma', 'Owen M. Thomas', 'M Goujon', 'Kai Jia', 'G Delbard', 'J.H. Jiang', 'Kei Iida', 'Yari Ciani', 'B Bursteinas', 'Xiaosong Huang', 'Kenichi Nakazato', 'Richard McVeigh', 'N Farriol-Mathis', 'Tal Arbel', 'Tomokatsu Ikawa', 'Karl Ekwall', 'Stephen J. Price', 'Mitsuko Hara', 'Louise Daugherty', 'Zhizhuo Zhang', 'Thomas Bernard', 'Michael T. Murtha', 'Nisha Rajagopal', 'K Pichler', 'N.C. Patel', 'Ursula Hinz', 'Ryan Lister', 'Yukio Nakamura', 'Pascal Lamblin', 'A MacDougall', 'Florence Forbes', 'Nicholas J. Tustison', 'Terrence F. Meehan', 'Gabriel Schwartz', 'Nuno Sousa', 'Tony J. Kenna', 'Lynsey Fairbairn', 'D.T. Cuddy', 'Martin Madera', 'JS Garavelli', 'Jay W. Shin', 'E Gasteiger', 'K Axelsen', 'Mike Daley', 'James Bergstra', 'John W. Whitaker', 'Arathi Raghunath', 'B Bely', 'Paul D. Thomas', 'Ertugrul Dalkic', 'Siew Yit Young', 'Shrikant M. Mane', 'Artem S. Kasianov', 'Luis E. Gonzalez', 'Lai Su Yeh', 'Piotr J. Balwierz', 'Cathy H. Wu', 'A Da Silva', 'Michael Stevens', 'Cesare Furlanello', 'David Binns', 'Daniel Haft', 'Jianrong Wang', 'E Turner', 'David Webb', 'Alex Bateman', 'G.L. Manney', 'Mitsuyoshi Murata', 'Pablo Porras', 'Peer Bork', 'David Lonsdale', 'Takahiro Arakawa', 'M Magrane', 'Eivind Valen', 'S Vasudevan', 'Dan Steinberg', 'E deCastro', 'Nelson Young', 'Tim R. Mercer', 'Matthew Rocklin', 'Matthew Fraser', 'Yun Chen', 'Bradley E. Bernstein', 'Olga D. Ermolaeva', 'A Gateau', 'Suresh Bhatia', 'Gift Nuka', 'Dong Hye Ye', 'L Aimo', 'G Chavali', 'Mark Omernick', 'M.A. Boyles', 'Sachi Kato', 'Rajendra Gottipati', 'David Warde-Farley', 'Peifen Zhang', 'Z-Z Hu', 'Susan J. Fisher', 'Shiro Fukuda', 'Shashikant Pujar', 'Andras Jakab', 'Wyeth W. Wasserman', 'Katrina Learned', 'Matthew L. Eaton', 'J.C. Lam', 'Ivan V. Kulakovskiy', 'Elizabeth Gerstner', 'Nicola Harte', 'Tdo Lima', 'Vincent Dumoulin', 'Marc-Alexandre Cote', 'Harukazu Suzuki', 'Brian B. Avants', 'Judith A. Blake', 'Paz Polak', 'Hongzhan Huang', 'Stacy Ciufo', 'Gregory Thorson', 'Kaoru Kaida', 'L Arminski', 'Valerio Orlando', 'Boris R. Jankovic', 'H Zellner', 'D. Miller', 'Robert M. Kuhn', 'Lawrence Schwartz', 'Y Chen', 'Q Wang', 'Koen Van Leemput', 'Sarah Burge', 'Takehiro Hashimoto', 'Gerald Quon', 'M Kleen', 'Amir Salek', 'Zhouhan Lin', 'Jesse A. Livezey', 'Magda Babina', 'James S. Song', 'Pauline A. Fujita', 'Ai Kaiho', 'Xinchen Wang', 'E Stanley', 'Chris Severn', 'Yishai Shimoni', 'Dumitru Erhan', 'Terence D. Murphy', 'Tilak Das', 'Shintaro Katayama', 'Jan Schluter', 'Ben Smithers', 'Melina Claussnitzer', 'Jeffrey Dean', 'Thomas Gingeras', 'Francesco Visin', 'W. Richard McCombie', 'Johannes Slotboom', 'Aaron Courville', 'Emmanuel Dimont', 'C Bonilla', 'V.S. Perun', 'D.M. Pukala', 'Ying Zhang', 'H.C. Pumphrey', 'N Redaschi', 'William Gulland', 'Simon Lemieux', 'I Xenarios', 'Jeremiah Lowin', 'M Corbett', 'Edison Dong', 'Teresa K. Attwood', 'Richard S. Sandstrom', 'B Roechert', 'Jan Chorowski', 'G Argoud-Puy', 'Silvano Squizzato', 'Nicola J. Mulder', 'A Stutz', 'W. James Kent', 'Christopher R. Durst', 'Aaron Jaffey', 'T Wardell', 'Raymond E. Tully', 'Ewa Grabowska', 'S Paesano', 'Sina Honari', 'CH Wu', 'Vamsi K. Kodali', 'Noriko Ninomiya', 'Hironori Satoh', 'A Mottaz', 'R Saidi', 'E. Birney', 'Peter Sadowski', 'M De Giorgi', 'Henning Hermjakob', 'Hsin Yu Chang', 'M Bingley', 'Polina Golland', 'T Lombardot', 'Anchi Guo', 'Sebastian Urban', 'Winston Hide', 'L Cerutti', 'Kang Li', 'Alison Meynert', 'Sam Griffiths-Jones', 'John Hu', 'Nicolas Hulo', 'Simon C. Potter', 'Yuan Yu', 'R Foulger', 'Louise N. Winteringham', 'R Mazumder', 'Marcel Prastawa', 'A Cowley', 'Yuki Hasegawa', 'Hiroko Ohmiya', 'B.V. Chudasama', 'Roxanne A. Yamashita', 'Christine A. Orengo', 'Tatiana A. Tatusova', 'Ian J. Goodfellow', 'Tetsuro Toyoda', 'Russell Greiner', 'Nicola Mulder', 'Ilka Hoof', 'Lijun Xue', 'Andy Swing', 'Paul Christiano', 'Alexander Kaplan', 'Marc Gwadz', 'W.G. Read', 'R.P. Thurstans', 'Corin Yeats', 'Karynne E. Patterson', 'Craig McAnulla', 'Sebastien Pesseat', 'J Bolleman', 'Malcolm E. Fisher', 'David Silver', 'Carol DeWeese-Scott', 'Alan J. Bridge', 'Daniel Kahn', 'Justin Bayer', 'Jeremy Coriell', 'Joseph F. Costello', 'Arjun Jain', 'Scott Shenker', 'Marco Necci', \"C O'Donovan\", 'Michael Q. Zhang', 'Philip L. De Jager', 'Pascal Vincent', 'Marco Roncador', 'Piero Carninci', 'Harshit Khaitan', 'Derrick Clive', 'Beicong Ma', 'Jay Shendure', 'F Fazzini', 'Melanie Ducoffe', 'Florence Servant', 'Sara El-Gebali', 'Hiroshi Tanaka', 'M Doche', 'Yoko Yamaguchi', 'Sugata Roy', 'Melisa Clements', 'Ah Ram Kim', 'James Law', 'Erick Tuttle', 'Mitsuhiro Ohshima', 'Xavier Glorot', 'Neil D. Rawlings', 'Linda Rodgers', 'M Pruess', 'Dan Hurt', 'Lisa H. Chadwick', 'Peter Heutink', 'P Van Rensburg', 'Jeroen F J Laros', 'Helena Persson', 'Jessica Severin', \"Peter A C 'T Hoen\", 'Margaret Duesbury', 'Abhishek Sarkar', 'Nigel M. John', 'Garth R. Brown', 'Robert Hagmann', 'Dmitry A. Ovchinnikov', 'Annaick Carles', 'Richard Durbin', 'Naganari Ohkura', 'Jean-Philippe Heng', 'Rajat Monga', 'Hans C. Clevers', 'Wouter Meuleman', 'Sarah Rennie', 'G Qi', 'P.A. Wagner', 'Marine Dumousseau', 'Thierry Sengstag', 'Andy Koch', 'Laurent Falquet', 'J Jacobsen', 'Cliff Young', 'Eric Larsen', 'Doug Hogberg', 'Charles Plessy', 'R Apweiler', 'Olivier Breuleux', 'Giuseppe Narzisi', 'B.W. Knosp', 'Maire Mahony', 'E. Schmidt', 'D Poggioli', 'Ioannis Xenarios', 'Claudio Schneider', 'Jason Ernst', 'Olga Blinkova', 'Robert T. McGibbon', 'A Bairoch', 'Damiano Piovesan', 'M.J. Schwartz', 'Jinna Choi', 'SB Quintaje', 'Masayuki Yamamoto', 'Paul A. Kitts', 'Thomas Norrie', 'Kyle Lucke', 'Darren Natale', 'Colin Raffel', 'Toshiyuki Nakamura', 'S. Peter Klinken', 'Yoshua Bengio', 'Miki Kojima', 'Boris Lenhard', 'Swati Pradhan-Bhatt', 'Philip Jones', 'Sergio Pereira', 'Melissa J. Landrum', 'S Duvaud', 'Daisuke Sugiyama', 'M.J. Filipiak', 'Christof Angermueller', 'Carsten O. Daub', 'Gabriel M. Altschule', 'Hozumi Motohashi', 'U Ugochukwu', 'M.C. Tope', 'Eri Saijyo', 'R Hieta', 'Mehdi Mirza', 'S Staehli', 'Jianguo Xia', 'John Maslen', 'Sayaka Nagao-Sato', 'Christopher Pal', 'Françoise Thibaud-Nissen', 'Christopher J. Lanczycki', 'Patrick Masterson', 'Yerramalla', 'Razvan Pascanu', 'Richard C. Sallari', 'Theresa K. Canfield', 'K. Takahashi', 'Vitor Onuchic', 'Mitsuru Morimoto', 'Nicolas Bertin', 'Andy Phelps', 'David A. Hume', 'Hideki Tatsukawa', 'S. Ramana Subramanyam', 'Erik Arner', 'Andreas Lennartsson', 'M.A. Girard', 'Joseph R. Ecker', 'Hiromasa Morikawa', 'Julien Demouth', 'Ilya Sutskever', 'Mohammad Pezeshki', 'Jed Souter', 'Andrew J. Mungall', 'Michael T. McManus', 'R Eberhardt', 'Andac Hamamci', 'J. Kenneth Baillie', 'Edouard De Castro', 'Darren A. Natale', 'Levente Lanczi', 'Patrizia Rizzu', 'Yohei Yonekura', 'X Martin', 'Yuki I. Kawamura', 'Lorna Richardson', 'Sebastian Schmeier', 'Gregory Sizikov', 'Max Wintermark', 'Mitsuhiro Endoh', 'Nicolas Boulanger-Lewandowski', 'Chris Leary', 'Craig Knox', 'S Orchard', 'Kieran Miller', 'Robert E. Thurman', 'N Subramanian', 'Yulia A. Medvedeva', 'P McGarvey', 'Julian Ibarz', 'David I. Hurwitz', 'Jason J. Corso', 'J.E. Oswald', 'Syed M. S. Reza', 'Samira Shabanian', 'James Laudon', 'R. Alan Harris', 'Shuji Kawaguchi', 'Danial Lashkari', 'P Garmiri', 'Michael Rehli', 'Morana Vitezic', 'J.R. Holden', 'Azat Badretdin', 'Philippe Hamel', 'Rebecca Lowdon', 'Harm de Vries', 'Dipti Vijayan', 'David Haft', 'Marco Pagni', 'Amjad Almahairi', 'Philip Liu', 'Guillaume Desjardins', 'Eric Wilcox', 'Y Alam-Faruque', 'Sigurd Spieckermann', 'Tsugumi Kawashima', 'D.L. Wu', 'E Cibrian-Uhalte', 'Timothy Ravasi', 'Ezequiel Geremia', 'Dmitriy Serdyuk', 'Yutaka Nakachi', 'Marc-Andre Weber', 'Timo Lassmann', 'Mauricio Reyes', 'Nishant Patil', 'Ashwinikumar Kulkarni', 'John Schulman', 'Fumi Hori', 'Erik Van Nimwegen', 'Donna R. Maglott', 'Zainulabedin Waqar', 'Roland Wiest', 'Peter Arner', 'Lenhard Vladimir B Bajic', 'Ian Sillitoe', 'Michael DiCuccio', 'Brian J. Raney', 'Danso Ako-Adjei', 'Yuri Ishizu', 'Jun Takai', 'Emad Samadiani', 'Kate R. Rosenbloom', 'Jeffrey D. Mandell', 'E Coudert', 'Mangold', 'Jayson Harshbarger', 'Philippe Gascard', 'Matt Dau', 'Alexandre de Brebisson', 'P Langendijk-Genevaux', 'Narayana Penukonda', 'A Morgat', 'K.A. Lee', 'Intikhab Alam Altschuler', 'Lucas D. Ward', 'S Poux', 'David A Lima De Morais', 'Angela Tam', 'Mark Thompson', 'Yann N. Dauphin', 'Yaping Liu', 'Robert S. Young', 'Herve Delingette', 'A Nightingale', 'Bhanu Rajput', 'Liang Li', 'Kali T. Witherspoon', 'Giuseppe Jurman', 'Wolfgang Fleischmann', 'Jessica C. Mar', 'Mariko Okada-Hatakeyama', \"Nuala A. O'Leary\", 'Ian Goodfellow', 'P.C. Stek', 'EB Casanova', 'Mercedes Tan', 'Arnab Pain', 'O. Quintero', 'Elizabeta Gjoneska', 'B Cuche', 'Christian Schmidl', 'Daniel Carbajo', 'N Nouspikel', 'Gaurav Agrawal', 'Bing Ren', 'Lionel Breuza', 'Raphael Meier', 'Michiel J L De Hoon', 'Evan E. Eichler', 'Sanjida H. Rangwala', 'Samuel Kerrien', 'James A. Thomson', 'Dustin J. Webb', 'Ender Konukoglu', 'Thomas J. Taylor', 'Teunis B. Geijtenbeek', 'T Dogan', 'Antonio Criminisi', 'Walter Wang', 'Mamoon Rashid', 'Sandra E. Orchard', 'LS Yeh', 'R. Dodge', 'Shimon Sakaguchi', 'Albin Sandelin', 'Guillaume Alain', 'Norman P. Jouppi', 'David S. Wishart', 'Iulian Vlad Serban', 'Youngmi Park', 'S Pundir', 'Gemma L. Holliday', 'Ivan Iossifov', 'Bart van Merrienboer', 'Narmada Thanki', 'Pierre-luc Cantin', 'MJ Martin', 'D Dornevil', 'Naoko Suzuki', 'D.A. Flower', 'Nan Boden', 'Zihua Wang', 'Diemthu Le', 'Qianli Ma', 'Jie Wu', 'Dean Cheng', \"Kathleen O'Neill\", 'Mette Jørgensen', 'C. Richard Ho', 'L Figueira', 'Vinita S. Joardar', 'K Laiho', 'Matthias Edinger', 'Atsutaka Kubosaki', 'Elisabeth Gasteiger', 'Suzana Savvi', 'Granger Sutton', 'Toshio Kitamura', 'Alex Mitchell', 'Ilya E. Vorontsov', 'Jennifer Hillman-Jackson', 'John Tate', 'J Lew', 'Deborah A. Nickerson', 'J.W. Waters', 'K Sonesson', 'Antje Blumenthal', 'Lukasz Huminiecki', 'Geoffrey J. Faulkner', 'Volynkin', 'Bo Tian', 'Siqian He', 'Martin S. Taylor', 'John B. Anderson', 'Ravi Narayanaswami', 'R Lopez', 'Craig Wallin', 'Daniel Renshaw', 'A Shypitsyna', 'J. Rodney Brister', 'L-S Yeh', 'S Sundaram', 'Gordon MacKean', 'Yibo Jiang', 'Bernd Roechert', 'Hoo-Chang Shin', 'Michael Ronemus', 'Ziye Fan', 'G di Martino']\n",
      "The Selected Graph is: Sparse\n"
     ]
    }
   ],
   "source": [
    "from backend import functionality_1\n",
    "\n",
    "name_graph = input(\"The Graph Name is: \")\n",
    "functionality_1(sub_collaboration_graph, name_graph)"
   ]
  },
  {
   "cell_type": "markdown",
   "id": "2b5fb431",
   "metadata": {},
   "source": [
    "#### Functionality 2 - Nodes' contribution\n",
    "\n",
    "##### Input:\n",
    "- The graph\n",
    "- A node of the graph (paper/author)\n",
    "- The name of the graph\n",
    "\n",
    "##### Output:\n",
    "\n",
    "- The centrality of the node, calculated based on the following centrality measurements:\n",
    "    - Betweeness\n",
    "    - PageRank\n",
    "    - ClosenessCentrality\n",
    "    - DegreeCentrality"
   ]
  },
  {
   "cell_type": "code",
   "execution_count": 26,
   "id": "3a0f7430",
   "metadata": {},
   "outputs": [
    {
     "name": "stdout",
     "output_type": "stream",
     "text": [
      "The name of graph selected is: Sub Citation Graph\n",
      "The Betweenness Centrality of selected node is: 0.000145656\n",
      "The PageRank Centrality of selected node is: 0.000350732\n",
      "The Closeness Centrality of selected node is: 0.0288951\n",
      "The Degree Centrality of selected node is: 0.0030003\n"
     ]
    }
   ],
   "source": [
    "from backend import functionality_2\n",
    "\n",
    "#node_selected_collaboration = 2155511848\n",
    "\n",
    "name_graph = input(\"The Graph Name is: \")\n",
    "#node_selected = int(input(\"Insert the Node that the function calculated: \"))\n",
    "functionality_2(sub_citation_graph, node_selected=2155511848, name_graph=name_graph)"
   ]
  },
  {
   "cell_type": "markdown",
   "id": "faccc51e",
   "metadata": {},
   "source": [
    "#### Functionality 3 - Shortest ordered walk\n",
    "\n",
    "##### Input:\n",
    "\n",
    "- The graph data\n",
    "- A sequence of authors_a = [a_2, ..., a_{n-1}]\n",
    "- Initial node a_1 and an end node a_n\n",
    "- *N*: denoting the top *N* authors whose data should be considered\n",
    "\n",
    "##### Output:\n",
    "\n",
    "- The shortest walk of collaborations you need to read to get from author a_1 to author a_n and the papers you need to cross to realize this walk."
   ]
  },
  {
   "cell_type": "code",
   "execution_count": null,
   "id": "533d348a",
   "metadata": {},
   "outputs": [],
   "source": [
    "from backend import functionality_3"
   ]
  },
  {
   "cell_type": "markdown",
   "id": "2c35e14b",
   "metadata": {},
   "source": [
    "#### Functionality 4 - Disconnecting Graphs\n",
    "\n",
    "##### Input:\n",
    "\n",
    "- The graph data\n",
    "- authorA: a paper to which will relate sub-graph G_a\n",
    "- authorB: a paper to which will relate sub-graph G_b\n",
    "- *N*: denoting the top *N* authors that their data should be considered\n",
    "\n",
    "##### Output:\n",
    "\n",
    "- The minimum number of edges (by considering their weights) required to disconnect the original graph in two disconnected subgraphs: G_a and G_b."
   ]
  },
  {
   "cell_type": "code",
   "execution_count": null,
   "id": "77cafd97",
   "metadata": {},
   "outputs": [],
   "source": []
  },
  {
   "cell_type": "markdown",
   "id": "bc496c69",
   "metadata": {},
   "source": [
    "#### Functionality 5 - Extracting Communities\n",
    "\n",
    "##### Input:\n",
    "\n",
    "- The graph data\n",
    "- *N*: denoting the top *N* papers that their data should be considered\n",
    "- Paper_1: denoting the name of one of the papers\n",
    "- Paper_2: denoting the name of one of the papers\n",
    "\n",
    "##### Output:\n",
    "\n",
    "- The minimum number of edges that should be removed to form communities\n",
    "- A list of communities, each containing a list of papers that belong to them.\n",
    "- Whether the Paper_1 and Paper_2 belongs to the same community."
   ]
  },
  {
   "cell_type": "code",
   "execution_count": null,
   "id": "d257005a",
   "metadata": {},
   "outputs": [],
   "source": []
  },
  {
   "cell_type": "markdown",
   "id": "373421c4",
   "metadata": {},
   "source": [
    "### 2.2. Frontend Implementation"
   ]
  },
  {
   "cell_type": "markdown",
   "id": "1503b626",
   "metadata": {},
   "source": [
    "## 3. Bonus - PageRank on MapReduce"
   ]
  },
  {
   "cell_type": "markdown",
   "id": "162046cd",
   "metadata": {},
   "source": [
    "## 4. Command Line Question (CLQ)\n"
   ]
  },
  {
   "cell_type": "markdown",
   "id": "af0b626a",
   "metadata": {},
   "source": [
    "## 5. Algorithmic Question (AQ)"
   ]
  }
 ],
 "metadata": {
  "kernelspec": {
   "display_name": "Python 3 (ipykernel)",
   "language": "python",
   "name": "python3"
  },
  "language_info": {
   "codemirror_mode": {
    "name": "ipython",
    "version": 3
   },
   "file_extension": ".py",
   "mimetype": "text/x-python",
   "name": "python",
   "nbconvert_exporter": "python",
   "pygments_lexer": "ipython3",
   "version": "3.11.6"
  }
 },
 "nbformat": 4,
 "nbformat_minor": 5
}
