{
 "cells": [
  {
   "cell_type": "markdown",
   "id": "fb6cf567",
   "metadata": {},
   "source": [
    "# Homework 5 - The eternal significance of publications and citations!"
   ]
  },
  {
   "cell_type": "markdown",
   "id": "45fcc293",
   "metadata": {},
   "source": [
    "This project was carried out by Group 19 of Algorithmic Methods for Data Mining, consisting of:\n",
    "\n",
    "| NAME and SURNAME | EMAIL |\n",
    "| --- | --- |\n",
    "| Pasquale Luca Tommasino | pl.tommasino@gmail.com | \n",
    "| | |\n",
    "| | |\n",
    "| | |"
   ]
  },
  {
   "cell_type": "markdown",
   "id": "1bd6c038",
   "metadata": {},
   "source": [
    "## 1. Data\n"
   ]
  },
  {
   "cell_type": "markdown",
   "id": "f99b8cd7",
   "metadata": {},
   "source": [
    "## 2. Controlling system\n"
   ]
  },
  {
   "cell_type": "markdown",
   "id": "fd925e2b",
   "metadata": {},
   "source": [
    "### 2.1 Backend Implementation\n"
   ]
  },
  {
   "cell_type": "markdown",
   "id": "373421c4",
   "metadata": {},
   "source": [
    "### 2.2. Frontend Implementation"
   ]
  },
  {
   "cell_type": "markdown",
   "id": "1503b626",
   "metadata": {},
   "source": [
    "## 3. Bonus - PageRank on MapReduce"
   ]
  },
  {
   "cell_type": "markdown",
   "id": "162046cd",
   "metadata": {},
   "source": [
    "## 4. Command Line Question (CLQ)\n"
   ]
  },
  {
   "cell_type": "markdown",
   "id": "af0b626a",
   "metadata": {},
   "source": [
    "## 5. Algorithmic Question (AQ)"
   ]
  }
 ],
 "metadata": {
  "kernelspec": {
   "display_name": "Python 3 (ipykernel)",
   "language": "python",
   "name": "python3"
  },
  "language_info": {
   "codemirror_mode": {
    "name": "ipython",
    "version": 3
   },
   "file_extension": ".py",
   "mimetype": "text/x-python",
   "name": "python",
   "nbconvert_exporter": "python",
   "pygments_lexer": "ipython3",
   "version": "3.10.9"
  }
 },
 "nbformat": 4,
 "nbformat_minor": 5
}
